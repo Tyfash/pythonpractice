{
 "cells": [
  {
   "cell_type": "code",
   "execution_count": null,
   "id": "6b6bffe2",
   "metadata": {},
   "outputs": [],
   "source": [
    "#This is my first python class "
   ]
  },
  {
   "cell_type": "code",
   "execution_count": null,
   "id": "b26329ff",
   "metadata": {},
   "outputs": [],
   "source": [
    "# This is my first attempt at an instructor led code training"
   ]
  },
  {
   "cell_type": "code",
   "execution_count": 1,
   "id": "2233a814",
   "metadata": {},
   "outputs": [
    {
     "ename": "SyntaxError",
     "evalue": "invalid syntax (Temp/ipykernel_7248/575538375.py, line 1)",
     "output_type": "error",
     "traceback": [
      "\u001b[1;36m  File \u001b[1;32m\"C:\\Users\\Ty\\AppData\\Local\\Temp/ipykernel_7248/575538375.py\"\u001b[1;36m, line \u001b[1;32m1\u001b[0m\n\u001b[1;33m    Print Hello Wold\u001b[0m\n\u001b[1;37m          ^\u001b[0m\n\u001b[1;31mSyntaxError\u001b[0m\u001b[1;31m:\u001b[0m invalid syntax\n"
     ]
    }
   ],
   "source": [
    "Print Hello Wold"
   ]
  },
  {
   "cell_type": "code",
   "execution_count": 2,
   "id": "11762db0",
   "metadata": {},
   "outputs": [
    {
     "ename": "SyntaxError",
     "evalue": "invalid syntax (Temp/ipykernel_7248/2366855664.py, line 1)",
     "output_type": "error",
     "traceback": [
      "\u001b[1;36m  File \u001b[1;32m\"C:\\Users\\Ty\\AppData\\Local\\Temp/ipykernel_7248/2366855664.py\"\u001b[1;36m, line \u001b[1;32m1\u001b[0m\n\u001b[1;33m    print (This my first class)\u001b[0m\n\u001b[1;37m                ^\u001b[0m\n\u001b[1;31mSyntaxError\u001b[0m\u001b[1;31m:\u001b[0m invalid syntax\n"
     ]
    }
   ],
   "source": [
    "print (This my first class)"
   ]
  },
  {
   "cell_type": "markdown",
   "id": "c0343e25",
   "metadata": {},
   "source": [
    "# This is Toyin Fashakin "
   ]
  },
  {
   "cell_type": "code",
   "execution_count": 3,
   "id": "0c41b042",
   "metadata": {},
   "outputs": [
    {
     "name": "stdout",
     "output_type": "stream",
     "text": [
      "HELLO WORLD\n"
     ]
    }
   ],
   "source": [
    "print(\"HELLO WORLD\")"
   ]
  },
  {
   "cell_type": "code",
   "execution_count": 5,
   "id": "5ab411fa",
   "metadata": {},
   "outputs": [
    {
     "name": "stdout",
     "output_type": "stream",
     "text": [
      "50 60 70 Hello World\n"
     ]
    }
   ],
   "source": [
    "print(50,60,70, \"Hello World\")"
   ]
  },
  {
   "cell_type": "code",
   "execution_count": 6,
   "id": "4ee92c21",
   "metadata": {},
   "outputs": [
    {
     "name": "stdout",
     "output_type": "stream",
     "text": [
      "Hello\n",
      "World\n"
     ]
    }
   ],
   "source": [
    "print(\"Hello\")\n",
    "print(\"World\")"
   ]
  },
  {
   "cell_type": "code",
   "execution_count": 14,
   "id": "51705156",
   "metadata": {},
   "outputs": [
    {
     "name": "stdout",
     "output_type": "stream",
     "text": [
      "Toyin Fashakin\n"
     ]
    }
   ],
   "source": [
    "print(\"Toyin\", end=\" \")\n",
    "print(\"Fashakin\")"
   ]
  },
  {
   "cell_type": "code",
   "execution_count": 5,
   "id": "8457021f",
   "metadata": {},
   "outputs": [
    {
     "name": "stdout",
     "output_type": "stream",
     "text": [
      "How do children pay their school fees?\n",
      "With Bank checks of course!\n"
     ]
    }
   ],
   "source": [
    "fred = '''How do children pay their school fees?\n",
    "With Bank checks of course!'''\n",
    "print(fred)\n"
   ]
  },
  {
   "cell_type": "code",
   "execution_count": 7,
   "id": "8f762afd",
   "metadata": {},
   "outputs": [
    {
     "name": "stdout",
     "output_type": "stream",
     "text": [
      "Sales list\n",
      "[]\n"
     ]
    }
   ],
   "source": [
    "#Creating a list\n",
    "List = []\n",
    "print('Sales list')\n",
    "print(List)"
   ]
  },
  {
   "cell_type": "code",
   "execution_count": 8,
   "id": "2051ba49",
   "metadata": {},
   "outputs": [
    {
     "name": "stdout",
     "output_type": "stream",
     "text": [
      "\n",
      "List clothes after addition as follows:\n",
      "['Skirts', 'Jackets', 'Socks', 1]\n"
     ]
    }
   ],
   "source": [
    "List.append('Skirts')\n",
    "List.append('Jackets')\n",
    "List.append('Socks')\n",
    "List.append(1)\n",
    "print( \"\\nList clothes after addition as follows:\" )\n",
    "print(List)"
   ]
  },
  {
   "cell_type": "code",
   "execution_count": 16,
   "id": "c08e4f97",
   "metadata": {},
   "outputs": [
    {
     "name": "stdout",
     "output_type": "stream",
     "text": [
      "14\n"
     ]
    }
   ],
   "source": [
    "for i in range (0 , 15):\n",
    " List.append(i)\n",
    "print(i)"
   ]
  },
  {
   "cell_type": "code",
   "execution_count": 5,
   "id": "c91453ae",
   "metadata": {},
   "outputs": [
    {
     "name": "stdout",
     "output_type": "stream",
     "text": [
      "How many numbers are you entering?2\n",
      "Enter your number:3\n",
      "Enter your number:4\n",
      "Last number in the List is : [-1]\n"
     ]
    }
   ],
   "source": [
    "#Creating empty list \n",
    "List =[]\n",
    "Count = int(input('How many numbers are you entering?'))\n",
    "for n in range(Count):\n",
    "    number =int(input('Enter your number:'))\n",
    "    List.append(number)\n",
    "print(\"Last number in the List is :\" , [-1])\n"
   ]
  },
  {
   "cell_type": "code",
   "execution_count": null,
   "id": "9216bed8",
   "metadata": {},
   "outputs": [],
   "source": [
    "print('WELCOME TO TY WORLD')\n",
    "clothing_item"
   ]
  },
  {
   "cell_type": "markdown",
   "id": "800175c7",
   "metadata": {},
   "source": [
    "# Working with python dictionaries"
   ]
  },
  {
   "cell_type": "code",
   "execution_count": 8,
   "id": "61cc37f4",
   "metadata": {},
   "outputs": [
    {
     "name": "stdout",
     "output_type": "stream",
     "text": [
      "{1: 'Kiwi', 2: 'Mango', 3: 'Orange', 4: 'Banana'}\n"
     ]
    }
   ],
   "source": [
    "fruit={ 1:\"Kiwi\" ,2:\"Mango\" ,3:\"Orange\",4:\"Banana\"}\n",
    "print(fruit)"
   ]
  },
  {
   "cell_type": "code",
   "execution_count": 23,
   "id": "29ab0919",
   "metadata": {},
   "outputs": [],
   "source": [
    "def preferred_house(choice,available):\n",
    "    if available:\n",
    "        print(\"Agent will contact you to schedule viewing\")\n",
    "    else:\n",
    "        print(\"check back next time\")\n",
    "    "
   ]
  },
  {
   "cell_type": "code",
   "execution_count": 12,
   "id": "101e89b8",
   "metadata": {},
   "outputs": [
    {
     "name": "stdout",
     "output_type": "stream",
     "text": [
      "Agent will contact you to schedule viweing\n"
     ]
    }
   ],
   "source": [
    "preferred_house(\"flat\",True)"
   ]
  },
  {
   "cell_type": "code",
   "execution_count": 13,
   "id": "df9abe89",
   "metadata": {},
   "outputs": [
    {
     "name": "stdout",
     "output_type": "stream",
     "text": [
      "check back next time\n"
     ]
    }
   ],
   "source": [
    "preferred_house(\"duplex\",False)"
   ]
  },
  {
   "cell_type": "code",
   "execution_count": 24,
   "id": "3988df7b",
   "metadata": {},
   "outputs": [],
   "source": [
    "def traffic_lights(color):\n",
    "    if color==\"red\":\n",
    "        print(\"Stop\")\n",
    "    elif color==\"green\":\n",
    "        print(\"Go\")\n",
    "    elif color==\"yellow\":\n",
    "        print(\"Slow down\")\n",
    "    elif color==\"purple\":\n",
    "        print(\"wrong choice\")"
   ]
  },
  {
   "cell_type": "code",
   "execution_count": 17,
   "id": "ae5d784f",
   "metadata": {},
   "outputs": [
    {
     "name": "stdout",
     "output_type": "stream",
     "text": [
      "Stop\n"
     ]
    }
   ],
   "source": [
    "traffic_lights(\"red\")"
   ]
  },
  {
   "cell_type": "code",
   "execution_count": 18,
   "id": "cb3985ea",
   "metadata": {},
   "outputs": [
    {
     "name": "stdout",
     "output_type": "stream",
     "text": [
      "Go\n"
     ]
    }
   ],
   "source": [
    "traffic_lights(\"green\")"
   ]
  },
  {
   "cell_type": "code",
   "execution_count": 19,
   "id": "cf42d261",
   "metadata": {},
   "outputs": [
    {
     "name": "stdout",
     "output_type": "stream",
     "text": [
      "Slow down\n"
     ]
    }
   ],
   "source": [
    "traffic_lights(\"yellow\")"
   ]
  },
  {
   "cell_type": "code",
   "execution_count": 25,
   "id": "96f3895b",
   "metadata": {},
   "outputs": [
    {
     "name": "stdout",
     "output_type": "stream",
     "text": [
      "wrong choice\n"
     ]
    }
   ],
   "source": [
    "traffic_lights(\"purple\")"
   ]
  },
  {
   "cell_type": "code",
   "execution_count": 2,
   "id": "0b33dfec",
   "metadata": {},
   "outputs": [
    {
     "name": "stdout",
     "output_type": "stream",
     "text": [
      "01234end\n"
     ]
    }
   ],
   "source": [
    "for i in range(5):\n",
    "    print(i, end = \"\")\n",
    "    if i==1:\n",
    "        continue\n",
    "else:\n",
    "    print('end')"
   ]
  },
  {
   "cell_type": "code",
   "execution_count": 3,
   "id": "629792e0",
   "metadata": {},
   "outputs": [
    {
     "ename": "TypeError",
     "evalue": "'str' object cannot be interpreted as an integer",
     "output_type": "error",
     "traceback": [
      "\u001b[1;31m---------------------------------------------------------------------------\u001b[0m",
      "\u001b[1;31mTypeError\u001b[0m                                 Traceback (most recent call last)",
      "\u001b[1;32m~\\AppData\\Local\\Temp/ipykernel_7152/2774497361.py\u001b[0m in \u001b[0;36m<module>\u001b[1;34m\u001b[0m\n\u001b[0;32m      1\u001b[0m \u001b[0mmy_str\u001b[0m\u001b[1;33m=\u001b[0m\u001b[1;34m\"python.hub\"\u001b[0m\u001b[1;33m\u001b[0m\u001b[1;33m\u001b[0m\u001b[0m\n\u001b[1;32m----> 2\u001b[1;33m \u001b[1;32mfor\u001b[0m \u001b[0mi\u001b[0m \u001b[1;32min\u001b[0m \u001b[0mrange\u001b[0m\u001b[1;33m(\u001b[0m\u001b[0mmy_str\u001b[0m\u001b[1;33m)\u001b[0m\u001b[1;33m:\u001b[0m\u001b[1;33m\u001b[0m\u001b[1;33m\u001b[0m\u001b[0m\n\u001b[0m\u001b[0;32m      3\u001b[0m     \u001b[0mprint\u001b[0m\u001b[1;33m(\u001b[0m\u001b[0mi\u001b[0m\u001b[1;33m)\u001b[0m\u001b[1;33m\u001b[0m\u001b[1;33m\u001b[0m\u001b[0m\n",
      "\u001b[1;31mTypeError\u001b[0m: 'str' object cannot be interpreted as an integer"
     ]
    }
   ],
   "source": [
    "my_str=\"python.hub\"\n",
    "for i in range(my_str):\n",
    "    print(i)"
   ]
  },
  {
   "cell_type": "code",
   "execution_count": 2,
   "id": "2ecee6c0",
   "metadata": {},
   "outputs": [
    {
     "name": "stdout",
     "output_type": "stream",
     "text": [
      "1\n",
      "2\n",
      "3\n",
      "4\n",
      "5\n",
      "6\n",
      "7\n",
      "8\n",
      "9\n"
     ]
    }
   ],
   "source": [
    "my_str=\"1,10...\"\n",
    "for i in range(1,10):\n",
    "    print(i)"
   ]
  },
  {
   "cell_type": "code",
   "execution_count": 1,
   "id": "5cc9e460",
   "metadata": {},
   "outputs": [],
   "source": [
    "def preferred_house(choice,available):\n",
    "    if available:\n",
    "        print(\"Agent will contact you to schedule viewing\")\n",
    "    else:\n",
    "        print(\"check back next time\")\n",
    "    "
   ]
  },
  {
   "cell_type": "code",
   "execution_count": 5,
   "id": "dcc0319a",
   "metadata": {},
   "outputs": [
    {
     "ename": "NameError",
     "evalue": "name 'true' is not defined",
     "output_type": "error",
     "traceback": [
      "\u001b[1;31m---------------------------------------------------------------------------\u001b[0m",
      "\u001b[1;31mNameError\u001b[0m                                 Traceback (most recent call last)",
      "\u001b[1;32m~\\AppData\\Local\\Temp/ipykernel_15832/1119302347.py\u001b[0m in \u001b[0;36m<module>\u001b[1;34m\u001b[0m\n\u001b[1;32m----> 1\u001b[1;33m \u001b[0mpreferred_house\u001b[0m\u001b[1;33m(\u001b[0m\u001b[1;34m\"flat\"\u001b[0m\u001b[1;33m,\u001b[0m\u001b[0mtrue\u001b[0m\u001b[1;33m)\u001b[0m\u001b[1;33m\u001b[0m\u001b[1;33m\u001b[0m\u001b[0m\n\u001b[0m",
      "\u001b[1;31mNameError\u001b[0m: name 'true' is not defined"
     ]
    }
   ],
   "source": [
    "preferred_house(\"flat\",true)"
   ]
  },
  {
   "cell_type": "code",
   "execution_count": 6,
   "id": "f2c325af",
   "metadata": {},
   "outputs": [
    {
     "name": "stdout",
     "output_type": "stream",
     "text": [
      "Agent will contact you to schedule viewing\n"
     ]
    }
   ],
   "source": [
    "preferred_house(\"duplex\",True)"
   ]
  },
  {
   "cell_type": "code",
   "execution_count": 7,
   "id": "1c074f6c",
   "metadata": {},
   "outputs": [
    {
     "name": "stdout",
     "output_type": "stream",
     "text": [
      "check back next time\n"
     ]
    }
   ],
   "source": [
    "preferred_house(\"flat\" ,False)"
   ]
  },
  {
   "cell_type": "code",
   "execution_count": 8,
   "id": "2c243147",
   "metadata": {},
   "outputs": [
    {
     "name": "stdout",
     "output_type": "stream",
     "text": [
      "HuntEasy\n"
     ]
    }
   ],
   "source": [
    "print('HuntEasy')"
   ]
  },
  {
   "cell_type": "code",
   "execution_count": 13,
   "id": "65cd0c13",
   "metadata": {},
   "outputs": [
    {
     "name": "stdout",
     "output_type": "stream",
     "text": [
      "Do you want to rent,buy or lease an apartment\n"
     ]
    }
   ],
   "source": [
    "\n",
    "print(\"Do you want to rent,buy or lease an apartment\")\n",
    "def customer_intent(interest):\n",
    "    if interest==\"buy\":\n",
    "       print('select apartment type')\n",
    "    elif interest=='rent':\n",
    "       print('select apartment type')\n",
    "    elif interest=='lease':\n",
    "       print('select apartment type')\n",
    "    elif interest== 'build':\n",
    "       print(\"wrong choice\")\n",
    "    \n",
    "\n",
    " "
   ]
  },
  {
   "cell_type": "code",
   "execution_count": 15,
   "id": "f1335e39",
   "metadata": {},
   "outputs": [
    {
     "name": "stdout",
     "output_type": "stream",
     "text": [
      "select apartment type\n"
     ]
    }
   ],
   "source": [
    "customer_intent('buy')"
   ]
  },
  {
   "cell_type": "code",
   "execution_count": 16,
   "id": "2651a9d9",
   "metadata": {},
   "outputs": [
    {
     "name": "stdout",
     "output_type": "stream",
     "text": [
      "select apartment type\n"
     ]
    }
   ],
   "source": [
    "customer_intent('rent')"
   ]
  },
  {
   "cell_type": "code",
   "execution_count": 17,
   "id": "fc6060b4",
   "metadata": {},
   "outputs": [
    {
     "name": "stdout",
     "output_type": "stream",
     "text": [
      "select apartment type\n"
     ]
    }
   ],
   "source": [
    "customer_intent('lease')"
   ]
  },
  {
   "cell_type": "code",
   "execution_count": 18,
   "id": "292e9e55",
   "metadata": {},
   "outputs": [
    {
     "name": "stdout",
     "output_type": "stream",
     "text": [
      "wrong choice\n"
     ]
    }
   ],
   "source": [
    "customer_intent('build')"
   ]
  },
  {
   "cell_type": "code",
   "execution_count": 61,
   "id": "166872a0",
   "metadata": {},
   "outputs": [
    {
     "ename": "SyntaxError",
     "evalue": "invalid syntax (Temp/ipykernel_15832/3792848876.py, line 5)",
     "output_type": "error",
     "traceback": [
      "\u001b[1;36m  File \u001b[1;32m\"C:\\Users\\Ty\\AppData\\Local\\Temp/ipykernel_15832/3792848876.py\"\u001b[1;36m, line \u001b[1;32m5\u001b[0m\n\u001b[1;33m    else\u001b[0m\n\u001b[1;37m    ^\u001b[0m\n\u001b[1;31mSyntaxError\u001b[0m\u001b[1;31m:\u001b[0m invalid syntax\n"
     ]
    }
   ],
   "source": [
    "\n",
    "print(\"Do you want to rent,buy or lease an apartment\")\n",
    "def customer_intent(interest):\n",
    "if interest=='buy'or interest=='rent'or interest=='lease':\n",
    "            print('select apartment type')     \n",
    "elif interest==build'\n",
    "            print('wrong choice')"
   ]
  },
  {
   "cell_type": "code",
   "execution_count": 51,
   "id": "069e488f",
   "metadata": {},
   "outputs": [
    {
     "name": "stdout",
     "output_type": "stream",
     "text": [
      "select apartment type\n"
     ]
    }
   ],
   "source": [
    "customer_intent('lease')"
   ]
  },
  {
   "cell_type": "code",
   "execution_count": 30,
   "id": "27fab960",
   "metadata": {},
   "outputs": [
    {
     "name": "stdout",
     "output_type": "stream",
     "text": [
      "select apartment type\n"
     ]
    }
   ],
   "source": [
    "customer_intent('lease')"
   ]
  },
  {
   "cell_type": "code",
   "execution_count": 52,
   "id": "6cb834ef",
   "metadata": {},
   "outputs": [
    {
     "name": "stdout",
     "output_type": "stream",
     "text": [
      "select apartment type\n"
     ]
    }
   ],
   "source": [
    "customer_intent('buy')"
   ]
  },
  {
   "cell_type": "code",
   "execution_count": 53,
   "id": "5ccc549b",
   "metadata": {},
   "outputs": [
    {
     "name": "stdout",
     "output_type": "stream",
     "text": [
      "select apartment type\n"
     ]
    }
   ],
   "source": [
    "customer_intent('rent')"
   ]
  },
  {
   "cell_type": "code",
   "execution_count": 34,
   "id": "a3ce1b58",
   "metadata": {},
   "outputs": [
    {
     "name": "stdout",
     "output_type": "stream",
     "text": [
      "wrong choice\n"
     ]
    }
   ],
   "source": [
    "customer_intent('build')"
   ]
  },
  {
   "cell_type": "code",
   "execution_count": null,
   "id": "8518b1d3",
   "metadata": {},
   "outputs": [],
   "source": []
  }
 ],
 "metadata": {
  "kernelspec": {
   "display_name": "Python 3 (ipykernel)",
   "language": "python",
   "name": "python3"
  },
  "language_info": {
   "codemirror_mode": {
    "name": "ipython",
    "version": 3
   },
   "file_extension": ".py",
   "mimetype": "text/x-python",
   "name": "python",
   "nbconvert_exporter": "python",
   "pygments_lexer": "ipython3",
   "version": "3.9.7"
  }
 },
 "nbformat": 4,
 "nbformat_minor": 5
}
